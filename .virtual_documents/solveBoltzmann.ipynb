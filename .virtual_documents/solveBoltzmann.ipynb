





import numpy as np
from scipy import integrate
from scipy import optimize
from scipy import interpolate
import scipy as sp
from matplotlib import pyplot as plt

Abs = np.abs
Log = np.log
Log10 = np.log10
Pi = np.pi
ArcTanh = np.arctanh
Sqrt = np.sqrt
Exp = np.exp
Cos = np.cos
Sin = np.sin
Arg = np.angle
BesselK = sp.special.kv
Zeta = sp.special.zeta
HeavisideTheta = lambda x: np.heaviside(x, 0)
Nnu = 3 # neutrino dof
GeV=1e3 # Use unit of MeV
mpl=1.22e19 * GeV
gstar=3.91
def H(T):
    return 1.66*np.sqrt(gstar)*T**2/mpl

def Plot(fun, xminmax, n=100,xfun=np.linspace):
    xlist = xfun(xminmax[0], xminmax[1], n)
    ylist = [fun(x) for x in xlist]
    plt.plot(xlist, ylist)








x_Kmax = 550.


def BesselK1_Series(x):
    coefficient = np.exp(-x) * np.sqrt(Pi/2)
    first=x**(-0.5)
    second = 3/8 * x**(-1.5)
    third=-15/128 * x**(-2.5)
    forth = 105/1024 * x**(-3.5)
    return coefficient*(first+second+third+forth)
    
def BesselK2_Series(x):
    coefficient = np.exp(-x) * np.sqrt(Pi/2)
    first=x**(-0.5)
    second = 3/8 * x**(-1.5)
    third = 105/128 * x**(-2.5)
    forth = -315/1024 * x**(-3.5)
    return coefficient*(first+second+third+forth)

def BesselK_Series(n,x):
    coefficient = np.exp(-x) * np.sqrt(Pi/2)
    first=x**(-0.5)
    second = 3/8 * x**(-1.5)
    if n==1:
        third=-15/128 * x**(-2.5)
        forth = 105/1024 * x**(-3.5)
    elif n==2:
        third = 105/128 * x**(-2.5)
        forth = -315/1024 * x**(-3.5)
    return coefficient*(first+second+third+forth)


Plot(BesselK2_Series, (500,700))
Plot(lambda x: BesselK(2,x), (500,700))
plt.yscale('log')





Plot(BesselK2_Series, (100,300))
Plot(lambda x: BesselK(2,x), (100,300))
plt.yscale('log')


Plot(lambda x: BesselK(1,x), (100,300))
Plot(lambda x: BesselK(2,x), (100,300))
plt.yscale('log')


def BesselK_func(n,x):
    if x > x_Kmax:
        return BesselK_Series(n,x)
    else:
        return BesselK(n,x)





def Y_MB(g,m,x):
    if m!= 0:
        return g*x**2 * BesselK_func(2,x)/(2*Pi**2)
    else:
        return  g/Pi**2





def σχχνν(mχ, mφ, yν, s):
    sigma = yν**4/(48*np.pi)
    sigma *= (s - mχ**2)
    sigma *= (s - mφ**2)**(-2)
    sigma *= (1 - 4*mχ**2/s)**(-0.5)
    return sigma





class model():
    def __init__(self,mχ, mφ, yν):
        """Initialize the model.
        Input:
        - yν: portal coupling strength. Same strength for both neutrino-portal coupling and DM-portal coupling.
        - mφ: portal particle mass m_φ.
        - mχ: dark matter mass m_χ.
        """
        print("Model parameters input.")
        print("yν = " + str(yν) + ", mφ = " + str(mφ) + ", mχ = " + str(mχ))
        print("Initializing...")
        self.yν = yν
        self.mφ = mφ
        self.mχ = mχ
        self.g = 2 # dof of each Weyl fermion.
        self.Nχ = 1 # DM species
        self.Nν = 3 # neutrino species
        self.gH = (8*Pi**3/90 * gstar)**0.5
        self.sol = None
        self.xprod = 3*Pi**2/32
        self.σv0=self.mχ**2 * self.yν**4/(8*Pi*(self.mφ**2-4*self.mχ**2)**2)
        self.lbda0 = mpl*self.mχ/self.gH * self.σv0
        self.xfo= None
        self.xeq = None
        self.freeze_out = None
        self.__in_or_out()
        if self.freeze_out:
            self.__solve_xfo__()
            self.__solve_xeq__()
            
    def __T_from_N__(self):
        """Solve for temperature T from number density n.
        Automatically called via initializing.
        Private function.
        """
        print("Initializing kinetic equilibrium distributions of χ and ν.")
        print("Scanning temperatures...")
        T_list = np.logspace(Log10(self.mχ)-2, Log10(self.mχ)+3,1000)
        n_v = np.vectorize(self.n_χ)
        n_list = Log10(n_v(T_list))
        T_from_n_χ = lambda n: 10**interpolate.interp1d(n_list, Log10(T_list), kind='cubic')(Log10(n))
        T_from_n_ν = lambda nν: (nν * 4/3 * Pi**2/Zeta(3) / self.g)**(1/3)
        print("Equilibrium done! Now you can compute temeperaure T from number density n for DM χ and neutrino ν!")
        return T_from_n_χ, T_from_n_ν
        
    def __in_or_out(self):

        if self.Yχ_prod_lin(self.xprod) >= self.Yeq(self.xprod):
            # Maximal produced value larger than equilibrium one. Freeze-out case.
            self.freeze_out = True
            print("Coupling large enough for χ to enter equilibrium. Freeze-out case.")
        else:
            print("Coupling too small for χ to enter equilibrium. Freeze-in case.")

    def Yeq(self, x):
        return self.Nν/(self.Nν + 1) * Y_MB(self.g, self.mχ, x)
    
    def Yχ_prod_lin(self,x):
        """The produced density of χ at T."""
        return  self.g**2 * mpl * self.Nν * x * self.yν**4/(384 * Pi**5 * self.gH * self.mχ)

    def Yfi(self,x):
        Rx = self.g * mpl * self.Nν * self.yν**4 * x
        Rx = Rx/(192*Pi**3 * self.gH * self.mχ)
        if Rx >100:
            ee = Exp(100)
        else:
            ee = Exp(Rx)
        num = self.g * self.Nν* (ee- 1)
        den = Pi**2 * ((self.Nν + 1) * ee+ (self.Nν - 1))
        return num/den
    
    def __solve_xeq__(self):
        """Solve the x value when χ enters equilibrium."""
        assert self.freeze_out
        if self.xeq == None:
            def criteria(logx):
                return self.Yeq(10**logx) - self.Yfi(10**logx)
            logxeq = optimize.brentq(criteria,-3,1)
            self.xeq = 10**logxeq
            print("The estimated x when χ enters equilibrium is "+str(self.xeq))

    def __solve_xfo__(self):
        """Solve the freeze-out point."""
        assert self.freeze_out
        if self.xfo == None:
            def fo_critiria(x):
                return x - Log(self.lbda0/Pi**2/x**0.5)
            self.xfo = optimize.brentq(fo_critiria,0.01,100)
            print("The estimated freeze-out x value is "+ str(self.xfo))

    def Yfo(self,x):
        """Return the Y in the freeze-out regime."""
        assert self.freeze_out
        assert x >= self.xeq
        T = self.mχ/x
        if x <= self.xfo:
            return self.Yeq(x)
        elif self.xfo < x <= 2*self.xfo:
            num = self.Yeq(self.xfo) * x
            deno = x * (self.lbda0 * self.Yeq(self.xfo)/self.xfo - 1)
            deno += self.xfo * (2-self.lbda0 * self.Yeq(self.xfo)/self.xfo)
            return num/deno
        else:
            Yinf = self.xfo/self.lbda0
            return Yinf * x /(x - self.xfo)
        
    def Y_ana(self,x):
        """Return the Y for all cases."""
        if self.freeze_out:
            if x < self.xeq:
                return self.Yfi(x)
            else:
                return self.Yfo(x)
        else:
            if x <= self.xprod:
                return self.Yfi(x)
            else:
                return self.Yfi(self.xprod)

    def σv(self,x):
        T = self.mχ/x
        denom = 8 * self.mχ**4 * T * BesselK_func(2,x)**2
        integral = integrate.quad(lambda s: σχχνν(self.mχ, self.mφ, self.yν, s) * s**0.5 * (s - 4 * self.mχ**2) * BesselK_func(1, s**0.5/T), 4*self.mχ**2,max(400*T**2, 100*self.mχ**2))[0]
        return integral/denom
    
    def dYdx(self, x, Y):
        """
        Right side of the Boltzmann equation.
        To be called by integrate.solve_ivp.
        """
        y = Y[0]
        lbda = self.Nν*mpl * self.mχ * self.σv(x)/self.gH
        Yt = self.Nν * Y_MB(self.g, 0, 1e-3)
        dY = np.array([lbda/x**2 * ((Yt-y)**2/self.Nν**2 * (Y_MB(self.g, self.mχ, x)/Y_MB(self.g, 0, x))**2 - y**2)])
        #dY = np.array([lbda/x**2 * (self.Yeq(x)**2 - y**2)])
        return dY
    
    def solveBoltzmann(self):
        if self.sol == None:
            xpoints = np.logspace(-3, 2, 1000)
            result = integrate.solve_ivp(self.dYdx, (0.001, 100.01), [self.Yfi(0.001)],rtol=1e-8, t_eval=xpoints)
            
            self.sol = result
    


m = model(0.1*1e-3, 0.1*1e-3,1e-6)


m.solveBoltzmann()


m.sol


rc = {"font.family" : "serif", 
      "mathtext.fontset" : "stix"}
plt.rcParams.update(rc)
plt.rcParams["font.serif"] = ["Times New Roman"] + plt.rcParams["font.serif"]
plt.rcParams["font.size"] = 14
plt.plot(m.sol.t,m.sol.y[0])
ana_plot = np.array([m.Y_ana(x) for x in m.sol.t])
plt.plot(m.sol.t, ana_plot)
plt.xscale('log')
plt.yscale('log')



